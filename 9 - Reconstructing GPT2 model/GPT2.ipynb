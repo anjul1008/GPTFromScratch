{
 "cells": [
  {
   "cell_type": "markdown",
   "metadata": {},
   "source": [
    "# GPT-2 Model"
   ]
  },
  {
   "cell_type": "code",
   "execution_count": 1,
   "metadata": {},
   "outputs": [],
   "source": [
    "import torch\n",
    "import torch.nn as nn"
   ]
  },
  {
   "cell_type": "code",
   "execution_count": 4,
   "metadata": {},
   "outputs": [],
   "source": [
    "class LayerNorm(nn.Module):\n",
    "    def __init__(self, emb_dim):\n",
    "        super().__init__()\n",
    "        self.esp = 1e-5\n",
    "        self.scale = nn.Parameter(torch.ones(emb_dim))\n",
    "        self.shift = nn.Parameter(torch.zeros(emb_dim))\n",
    "    \n",
    "    def forward(self, x):\n",
    "        mean = x.mean(dim=-1, keepdims=True)\n",
    "        var = x.var(dim=-1, keepdims=True, unbiased=False)  #unbiased parameter to replicate GPT2, does devide by N not N-1\n",
    "        x_norm = (x - mean) / torch.sqrt(var + self.esp)\n",
    "        return self.scale * x_norm + self.scale "
   ]
  },
  {
   "cell_type": "code",
   "execution_count": 5,
   "metadata": {},
   "outputs": [],
   "source": [
    "# activation used in GPT-2 model\n",
    "class GELU(nn.Module):\n",
    "    def __init__(self):\n",
    "        super().__init__()\n",
    "    \n",
    "    def forward(self, x):\n",
    "        return 0.5 * x * (1 + torch.tanh(\n",
    "                                    torch.sqrt(torch.tensor(2.0 / torch.pi)) *\n",
    "                                    (x + 0.44715 * torch.pw(x, 3))\n",
    "                                    )\n",
    "                      )"
   ]
  },
  {
   "cell_type": "code",
   "execution_count": 8,
   "metadata": {},
   "outputs": [],
   "source": [
    "# simple feedForwaed network\n",
    "class FeedForward(nn.Module):\n",
    "    def __init__(self, d_in, d_hidden=None):\n",
    "        super().__init__()\n",
    "        if d_hidden is None: d_hidden = 4 * d_in\n",
    "        self.layers = nn.Sequential(\n",
    "            nn.Linear(d_in, d_hidden),\n",
    "            GELU(),\n",
    "            nn.Linear(d_hidden, d_in)\n",
    "        )\n",
    "    \n",
    "    def forward(self, x):\n",
    "        return self.layers(x)"
   ]
  },
  {
   "cell_type": "code",
   "execution_count": 52,
   "metadata": {},
   "outputs": [],
   "source": [
    "# Muti head self attention from pervious session - check MHSAOptimized\n",
    "\n",
    "class MHSA(nn.Module):\n",
    "    def __init__(self, d_in, d_out, context_len, n_heads=2, causal=True, dropout=0.1, qkv_bias=False):\n",
    "        super().__init__()\n",
    "        assert (d_out % n_heads == 0), 'd_out must be a multiple of n_heads'\n",
    "        # self.d_in = d_in\n",
    "        self.d_out = d_out\n",
    "        self.n_heads = n_heads\n",
    "        self.causal = causal\n",
    "        # self.dropout = dropout\n",
    "        self.head_dim = d_out // n_heads\n",
    "        \n",
    "        # k, q, v\n",
    "        self.query = nn.Linear(d_in, d_out, bias=qkv_bias)\n",
    "        self.key = nn.Linear(d_in, d_out, bias=qkv_bias)\n",
    "        self.value = nn.Linear(d_in, d_out, bias=qkv_bias)\n",
    "        \n",
    "        # liner projection, not a nesseary projection, can be skipped\n",
    "        self.out_proj = nn.Linear(d_out, d_out)\n",
    "        \n",
    "        # dropout\n",
    "        self.dropout = nn.Dropout(dropout)\n",
    "        \n",
    "        if self.causal:\n",
    "            self.register_buffer(\n",
    "                \"mask\",\n",
    "                torch.triu(torch.ones(context_len, context_len),\n",
    "                        diagonal=1)\n",
    "            )\n",
    "            \n",
    "    def forward(self, x):\n",
    "        b, n_tokens, d_in = x.shape\n",
    "        q = self.query(x)\n",
    "        k = self.key(x)\n",
    "        v = self.value(x)\n",
    "        \n",
    "        # reshaping for n_heads attention, and transpose\n",
    "        # (b, n_tokens, self.n_heads, self.head_dim) -> (b, self.n_heads, n_tokens, self.head_dim)\n",
    "        q = q.view(b, n_tokens, self.n_heads, self.head_dim).transpose(1, 2)\n",
    "        k = k.view(b, n_tokens, self.n_heads, self.head_dim).transpose(1, 2)\n",
    "        v = v.view(b, n_tokens, self.n_heads, self.head_dim).transpose(1, 2)\n",
    "        \n",
    "        att_score = q @ k.transpose(2, 3) # out -> (b, self.n_heads, n_tokens, n_tokens)\n",
    "        \n",
    "        # MASKING future attention score, replace with inf that will be changed to zero by softmax\n",
    "        if self.causal:\n",
    "            att_score.masked_fill_(self.mask.bool()[:n_tokens, :n_tokens], float('-inf'))\n",
    "        att_weights = torch.softmax(att_score/k.shape[-1]**0.5, dim=-1)\n",
    "        \n",
    "        # dropout\n",
    "        att_weights = self.dropout(att_weights)\n",
    "        \n",
    "        # context vectors\n",
    "        # -> (b, self.n_heads, n_tokens, self.head_dim) -> (b, n_tokens, self.n_heads, self.head_dim)\n",
    "        context_vec = (att_score @ v).transpose(1, 2)\n",
    "        # print(context_vec)   \n",
    "        \n",
    "        context_vec = context_vec.contiguous().view(b, n_tokens, self.d_out)\n",
    "        \n",
    "        # liner projection\n",
    "        context_vec = self.out_proj(context_vec)\n",
    "        \n",
    "        return context_vec"
   ]
  },
  {
   "cell_type": "code",
   "execution_count": 53,
   "metadata": {},
   "outputs": [],
   "source": [
    "class TransformerLayer(nn.Module):\n",
    "    def __init__(self, conf):\n",
    "        super().__init__()\n",
    "        self.attn = MHSA(\n",
    "            d_in = conf.get('emb_dim'),\n",
    "            d_out = conf.get('emb_dim'),\n",
    "            context_len = conf.get('context_len'),\n",
    "            n_heads = conf.get('n_heads'),\n",
    "            dropout = conf.get('drop_rate'),\n",
    "            causal = True,\n",
    "            qkv_bias = conf.get('qkv_bias')\n",
    "        )\n",
    "        \n",
    "        self.ff = FeedForward(conf.get('emb_dim'))\n",
    "        self.norm1 = LayerNorm(conf.get('emb_dim'))\n",
    "        self.norm2 = LayerNorm(conf.get('emb_dim'))\n",
    "        self.dropout = nn.Dropout(conf.get('drop_rate'))\n",
    "    \n",
    "    def forward(self, x):\n",
    "        shortcut = x\n",
    "        x = self.norm1(x)\n",
    "        x = self.attn(x)\n",
    "        x = self.dropout(x)\n",
    "        x = x + shortcut\n",
    "\n",
    "        shortcut = x\n",
    "        x = self.norm2(x)\n",
    "        x = self.attn(x)\n",
    "        x = self.dropout(x)\n",
    "        x = x + shortcut\n",
    "        \n",
    "        return x"
   ]
  },
  {
   "cell_type": "code",
   "execution_count": 55,
   "metadata": {},
   "outputs": [],
   "source": [
    "class GPT2(nn.Module):\n",
    "    def __init__(self, conf):\n",
    "        super().__init__()\n",
    "        self.tok_emb = nn.Embedding(conf.get('vocab_size'), conf.get('emb_dim'))\n",
    "        self.pos_emb = nn.Embedding(conf.get('context_len'), conf.get('emb_dim'))\n",
    "        self.drop_emb = nn.Dropout(conf.get('drop_rate'))\n",
    "        \n",
    "        self.trf_block = nn.Sequential(\n",
    "            * [ TransformerLayer(conf) for _ in range(conf.get('n_layers')) ]\n",
    "        )       # TODO: why * is needed here?\n",
    "        \n",
    "        self.final_norm = LayerNorm(conf.get('emb_dim'))\n",
    "        self.out_head = nn.Linear(conf.get('emb_dim'), conf.get('vocab_size'), bias=False)\n",
    "        \n",
    "        \n",
    "    def forward(self, x):\n",
    "        batch_size, seq_len = x.shape\n",
    "        tok_embeds = self.tok_emb(x)\n",
    "        pos_embeds = self.pos_emb(torch.arange(seq_len, device=x.device))\n",
    "        \n",
    "        x = tok_embeds + pos_embeds\n",
    "        x = self.drop_emb(x)\n",
    "        x = self.trf_block(x)\n",
    "        x = self.final_norm(x)\n",
    "        logits = self.out_head(x)\n",
    "        return logits"
   ]
  },
  {
   "cell_type": "markdown",
   "metadata": {},
   "source": [
    "# Model Configrations\n"
   ]
  },
  {
   "cell_type": "code",
   "execution_count": 56,
   "metadata": {},
   "outputs": [],
   "source": [
    "gpt2_conf_124M = {\n",
    "    'vocab_size': 50257,\n",
    "    'context_len': 1024,\n",
    "    'emb_dim': 768,\n",
    "    'n_heads': 12,\n",
    "    'n_layers': 12,\n",
    "    'drop_rate': 0.01,\n",
    "    'qkv_bias': False,\n",
    "}"
   ]
  },
  {
   "cell_type": "code",
   "execution_count": 57,
   "metadata": {},
   "outputs": [],
   "source": [
    "torch.manual_seed(123)\n",
    "model = GPT2(gpt2_conf_124M)"
   ]
  },
  {
   "cell_type": "code",
   "execution_count": 59,
   "metadata": {},
   "outputs": [
    {
     "name": "stdout",
     "output_type": "stream",
     "text": [
      "Total Parameters: 163009536\n"
     ]
    }
   ],
   "source": [
    "total_param = sum(p.numel() for p in model.parameters())\n",
    "print(f\"Total Parameters: {total_param}\")"
   ]
  },
  {
   "cell_type": "code",
   "execution_count": 61,
   "metadata": {},
   "outputs": [
    {
     "name": "stdout",
     "output_type": "stream",
     "text": [
      "Total Trainable param in GPT2 model: 124412160\n"
     ]
    }
   ],
   "source": [
    "# after weight tying\n",
    "gpt2_params = (\n",
    "    total_param - sum(p.numel() for p in model.out_head.parameters())\n",
    ")\n",
    "\n",
    "print(f\"Total Trainable param in GPT2 model: {gpt2_params}\")"
   ]
  },
  {
   "cell_type": "code",
   "execution_count": 51,
   "metadata": {},
   "outputs": [
    {
     "data": {
      "text/plain": [
       "(tensor([[[nan, nan, nan,  ..., nan, nan, nan],\n",
       "          [nan, nan, nan,  ..., nan, nan, nan],\n",
       "          [nan, nan, nan,  ..., nan, nan, nan],\n",
       "          [nan, nan, nan,  ..., nan, nan, nan]],\n",
       " \n",
       "         [[nan, nan, nan,  ..., nan, nan, nan],\n",
       "          [nan, nan, nan,  ..., nan, nan, nan],\n",
       "          [nan, nan, nan,  ..., nan, nan, nan],\n",
       "          [nan, nan, nan,  ..., nan, nan, nan]]], grad_fn=<UnsafeViewBackward0>),\n",
       " torch.Size([2, 4, 50257]))"
      ]
     },
     "execution_count": 51,
     "metadata": {},
     "output_type": "execute_result"
    }
   ],
   "source": [
    "# batch = torch.randint(1, 50000, (2,5))\n",
    "inputs = [[6109, 3626, 6100, 345],\n",
    "          [6109, 1110, 6622, 257]]\n",
    "batch = torch.tensor(inputs)\n",
    "out = model(batch)\n",
    "out, out.shape"
   ]
  },
  {
   "cell_type": "code",
   "execution_count": null,
   "metadata": {},
   "outputs": [],
   "source": []
  }
 ],
 "metadata": {
  "kernelspec": {
   "display_name": "base",
   "language": "python",
   "name": "python3"
  },
  "language_info": {
   "codemirror_mode": {
    "name": "ipython",
    "version": 3
   },
   "file_extension": ".py",
   "mimetype": "text/x-python",
   "name": "python",
   "nbconvert_exporter": "python",
   "pygments_lexer": "ipython3",
   "version": "3.11.5"
  }
 },
 "nbformat": 4,
 "nbformat_minor": 2
}
