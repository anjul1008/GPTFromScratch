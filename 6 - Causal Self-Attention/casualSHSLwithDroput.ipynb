{
 "cells": [
  {
   "cell_type": "markdown",
   "metadata": {},
   "source": [
    "# Casual Single Head Self-Attention (Masked Attention)"
   ]
  },
  {
   "cell_type": "code",
   "execution_count": null,
   "metadata": {},
   "outputs": [],
   "source": [
    "# Dropuout in DL is a technique where randomly selected hidden units are ignored duraing training\n",
    "# it helps to prevent to overfitting the model"
   ]
  },
  {
   "cell_type": "code",
   "execution_count": 3,
   "metadata": {},
   "outputs": [],
   "source": [
    "import torch\n",
    "from torch import nn"
   ]
  },
  {
   "cell_type": "code",
   "execution_count": 7,
   "metadata": {},
   "outputs": [
    {
     "data": {
      "text/plain": [
       "(tensor([[1., 1., 1., 1., 1.],\n",
       "         [1., 1., 1., 1., 1.],\n",
       "         [1., 1., 1., 1., 1.],\n",
       "         [1., 1., 1., 1., 1.],\n",
       "         [1., 1., 1., 1., 1.]]),\n",
       " tensor([[1.1111, 0.0000, 1.1111, 1.1111, 1.1111],\n",
       "         [1.1111, 1.1111, 1.1111, 1.1111, 1.1111],\n",
       "         [1.1111, 1.1111, 1.1111, 1.1111, 0.0000],\n",
       "         [1.1111, 1.1111, 1.1111, 1.1111, 1.1111],\n",
       "         [1.1111, 1.1111, 1.1111, 0.0000, 1.1111]]))"
      ]
     },
     "execution_count": 7,
     "metadata": {},
     "output_type": "execute_result"
    }
   ],
   "source": [
    "droput = nn.Dropout(0.1)\n",
    "torch.ones(5,5), droput(torch.ones(5,5))"
   ]
  },
  {
   "cell_type": "code",
   "execution_count": 14,
   "metadata": {},
   "outputs": [],
   "source": [
    "# base code of selfAttentionImproved used from Single Head Self-Attention\n",
    "\n",
    "class selfAttentionImproved(nn.Module):\n",
    "    def __init__(self, d_in, d_out, qkv_biased=False):\n",
    "        super(selfAttentionImproved, self).__init__()\n",
    "        self.liner_query = nn.Linear(d_in, d_out, bias=qkv_biased)   # default value of requires_grad is True\n",
    "        self.liner_key = nn.Linear(d_in, d_out, bias=qkv_biased)\n",
    "        self.liner_value = nn.Linear(d_in, d_out, bias=qkv_biased)\n",
    "        self.droput = nn.Dropout(0.5)       # 50% probability of dropout, GPT model 0.1 or 0.2 is used\n",
    "    \n",
    "    def forward(self, x):\n",
    "        x_q = self.liner_query(x)\n",
    "        x_k = self.liner_key(x)\n",
    "        x_v = self.liner_value(x)\n",
    "        \n",
    "        # Compute attention score\n",
    "        att_score = x_q @ x_k.T\n",
    "        \n",
    "        # MASKING future attention score, replace with inf that will be changed to zero by softmat\n",
    "        context_len = att_score.shape[0]\n",
    "        mask = torch.triu(torch.ones(context_len, context_len), diagonal=1)\n",
    "        masked_att_score = att_score.masked_fill(mask.bool(), -torch.inf)\n",
    "        \n",
    "        # attention weight\n",
    "        norm_factor = x_v.shape[-1] ** 0.5              # normalization factor    \n",
    "        att_weights = torch.softmax(masked_att_score/norm_factor, dim=-1)\n",
    "        print(f\"Masked att_weights marix: {att_weights}\")\n",
    "        \n",
    "        # Appling droput to masked att_weights\n",
    "        droput_att_weights = self.droput(att_weights)\n",
    "        print(f\"Dropout att_weights marix: {droput_att_weights}\")\n",
    "        \n",
    "        # context matrix\n",
    "        context = droput_att_weights @ x_v\n",
    "        \n",
    "        return context\n",
    "        \n",
    "        \n",
    "        "
   ]
  },
  {
   "cell_type": "code",
   "execution_count": 15,
   "metadata": {},
   "outputs": [
    {
     "name": "stdout",
     "output_type": "stream",
     "text": [
      "Masked att_weights marix: tensor([[1.0000, 0.0000, 0.0000, 0.0000, 0.0000, 0.0000],\n",
      "        [0.3230, 0.6770, 0.0000, 0.0000, 0.0000, 0.0000],\n",
      "        [0.1463, 0.3685, 0.4853, 0.0000, 0.0000, 0.0000],\n",
      "        [0.1727, 0.2275, 0.2213, 0.3785, 0.0000, 0.0000],\n",
      "        [0.1681, 0.1327, 0.1180, 0.3515, 0.2296, 0.0000],\n",
      "        [0.0911, 0.1999, 0.2203, 0.1507, 0.1380, 0.2001]],\n",
      "       grad_fn=<SoftmaxBackward0>)\n",
      "Dropout att_weights marix: tensor([[0.0000, 0.0000, 0.0000, 0.0000, 0.0000, 0.0000],\n",
      "        [0.0000, 1.3540, 0.0000, 0.0000, 0.0000, 0.0000],\n",
      "        [0.0000, 0.7369, 0.0000, 0.0000, 0.0000, 0.0000],\n",
      "        [0.0000, 0.4549, 0.0000, 0.0000, 0.0000, 0.0000],\n",
      "        [0.0000, 0.0000, 0.0000, 0.0000, 0.0000, 0.0000],\n",
      "        [0.1822, 0.3998, 0.4405, 0.0000, 0.0000, 0.4002]],\n",
      "       grad_fn=<MulBackward0>)\n",
      "Context Matrix after Self-Attention: tensor([[ 0.0000,  0.0000,  0.0000],\n",
      "        [-1.7454, -1.6705, -0.5202],\n",
      "        [-0.9499, -0.9091, -0.2831],\n",
      "        [-0.5864, -0.5612, -0.1748],\n",
      "        [ 0.0000,  0.0000,  0.0000],\n",
      "        [-0.9071, -1.0501, -0.1727]], grad_fn=<MmBackward0>)\n"
     ]
    }
   ],
   "source": [
    "sai = selfAttentionImproved(3,3)\n",
    "context = sai.forward(torch.randn(6,3))\n",
    "print(f\"Context Matrix after Self-Attention: {context}\")"
   ]
  },
  {
   "cell_type": "code",
   "execution_count": null,
   "metadata": {},
   "outputs": [],
   "source": []
  }
 ],
 "metadata": {
  "kernelspec": {
   "display_name": "base",
   "language": "python",
   "name": "python3"
  },
  "language_info": {
   "codemirror_mode": {
    "name": "ipython",
    "version": 3
   },
   "file_extension": ".py",
   "mimetype": "text/x-python",
   "name": "python",
   "nbconvert_exporter": "python",
   "pygments_lexer": "ipython3",
   "version": "3.11.5"
  }
 },
 "nbformat": 4,
 "nbformat_minor": 2
}
