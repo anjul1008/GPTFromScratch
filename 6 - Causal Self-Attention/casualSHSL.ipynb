{
 "cells": [
  {
   "cell_type": "markdown",
   "metadata": {},
   "source": [
    "# Casual Single Head Self-Attention (Masked Attention)"
   ]
  },
  {
   "cell_type": "code",
   "execution_count": 2,
   "metadata": {},
   "outputs": [],
   "source": [
    "# Maskging in attention weight is required to prevent context from future words\n",
    "# we will use SHSL code and amsk attention weights"
   ]
  },
  {
   "cell_type": "code",
   "execution_count": 7,
   "metadata": {},
   "outputs": [],
   "source": [
    "import torch\n",
    "from torch import nn"
   ]
  },
  {
   "cell_type": "code",
   "execution_count": 5,
   "metadata": {},
   "outputs": [
    {
     "data": {
      "text/plain": [
       "tensor([[0., 1., 1.],\n",
       "        [0., 0., 1.],\n",
       "        [0., 0., 0.]])"
      ]
     },
     "execution_count": 5,
     "metadata": {},
     "output_type": "execute_result"
    }
   ],
   "source": [
    "torch.triu(torch.ones(3,3), diagonal=1)"
   ]
  },
  {
   "cell_type": "code",
   "execution_count": 16,
   "metadata": {},
   "outputs": [],
   "source": [
    "# base code of selfAttentionImproved used from Single Head Self-Attention\n",
    "\n",
    "class selfAttentionImproved(nn.Module):\n",
    "    def __init__(self, d_in, d_out, qkv_biased=False):\n",
    "        super(selfAttentionImproved, self).__init__()\n",
    "        self.liner_query = nn.Linear(d_in, d_out, bias=qkv_biased)   # default value of requires_grad is True\n",
    "        self.liner_key = nn.Linear(d_in, d_out, bias=qkv_biased)\n",
    "        self.liner_value = nn.Linear(d_in, d_out, bias=qkv_biased)\n",
    "    \n",
    "    def forward(self, x):\n",
    "        x_q = self.liner_query(x)\n",
    "        x_k = self.liner_key(x)\n",
    "        x_v = self.liner_value(x)\n",
    "        \n",
    "        # Compute attention score\n",
    "        att_score = x_q @ x_k.T\n",
    "        \n",
    "        # MASKING future attention score, replace with inf that will be changed to zero by softmat\n",
    "        context_len = att_score.shape[0]\n",
    "        mask = torch.triu(torch.ones(context_len, context_len), diagonal=1)\n",
    "        masked_att_score = att_score.masked_fill(mask.bool(), -torch.inf)\n",
    "        \n",
    "        # attention weight\n",
    "        norm_factor = x_v.shape[-1] ** 0.5              # normalization factor    \n",
    "        att_weights = torch.softmax(masked_att_score/norm_factor, dim=-1)\n",
    "        print(f\"Masked att_weights marix: {att_weights}\")\n",
    "        \n",
    "        # context matrix\n",
    "        context = att_weights @ x_v\n",
    "        \n",
    "        return context\n",
    "        \n",
    "        \n",
    "        "
   ]
  },
  {
   "cell_type": "code",
   "execution_count": 18,
   "metadata": {},
   "outputs": [
    {
     "name": "stdout",
     "output_type": "stream",
     "text": [
      "Masked att_weights marix: tensor([[1.0000, 0.0000, 0.0000, 0.0000, 0.0000, 0.0000],\n",
      "        [0.4493, 0.5507, 0.0000, 0.0000, 0.0000, 0.0000],\n",
      "        [0.4710, 0.2108, 0.3181, 0.0000, 0.0000, 0.0000],\n",
      "        [0.1872, 0.3602, 0.1760, 0.2767, 0.0000, 0.0000],\n",
      "        [0.1236, 0.2554, 0.1453, 0.1739, 0.3018, 0.0000],\n",
      "        [0.3141, 0.0865, 0.2031, 0.1809, 0.0669, 0.1485]],\n",
      "       grad_fn=<SoftmaxBackward0>)\n",
      "Context Matrix after Self-Attention: tensor([[-0.3362,  0.1060, -0.6693],\n",
      "        [-0.0841,  0.1244, -0.4324],\n",
      "        [-0.4453, -0.0922, -0.2784],\n",
      "        [-0.1894,  0.0836, -0.4939],\n",
      "        [-0.0856,  0.1486, -0.6032],\n",
      "        [-0.4773, -0.1027, -0.3383]], grad_fn=<MmBackward0>)\n"
     ]
    }
   ],
   "source": [
    "sai = selfAttentionImproved(3,3)\n",
    "context = sai.forward(torch.randn(6,3))\n",
    "print(f\"Context Matrix after Self-Attention: {context}\")"
   ]
  },
  {
   "cell_type": "code",
   "execution_count": null,
   "metadata": {},
   "outputs": [],
   "source": []
  }
 ],
 "metadata": {
  "kernelspec": {
   "display_name": "base",
   "language": "python",
   "name": "python3"
  },
  "language_info": {
   "codemirror_mode": {
    "name": "ipython",
    "version": 3
   },
   "file_extension": ".py",
   "mimetype": "text/x-python",
   "name": "python",
   "nbconvert_exporter": "python",
   "pygments_lexer": "ipython3",
   "version": "3.11.5"
  }
 },
 "nbformat": 4,
 "nbformat_minor": 2
}
