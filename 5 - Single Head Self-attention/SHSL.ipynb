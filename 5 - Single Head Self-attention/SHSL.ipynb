{
 "cells": [
  {
   "cell_type": "markdown",
   "metadata": {},
   "source": [
    "# Single Head Self-Attention in Transformers"
   ]
  },
  {
   "cell_type": "code",
   "execution_count": 3,
   "metadata": {},
   "outputs": [],
   "source": [
    "import torch\n",
    "from torch import nn"
   ]
  },
  {
   "cell_type": "code",
   "execution_count": 4,
   "metadata": {},
   "outputs": [],
   "source": [
    "class selfAttention(nn.Module):\n",
    "    def __init__(self, d_in, d_out):\n",
    "        super(selfAttention, self).__init__()\n",
    "        self.query = nn.Parameter(torch.rand(d_in, d_out), requires_grad=True)   # default value of requires_grad is True\n",
    "        self.key = nn.Parameter(torch.rand(d_in, d_out))\n",
    "        self.value = nn.Parameter(torch.rand(d_in, d_out))\n",
    "    \n",
    "    def forward(self, x):\n",
    "        x_q = x @ self.query\n",
    "        x_k = x @ self.key\n",
    "        x_v = x @ self.value\n",
    "        \n",
    "        # Compute attention score\n",
    "        att_score = x_q @ x_k.T\n",
    "        \n",
    "        # attention weight\n",
    "        norm_factor = x_v.shape[-1] ** 0.5              # normalization factor    \n",
    "        att_weights = torch.softmax(att_score/norm_factor, dim=-1)\n",
    "        \n",
    "        # context matrix\n",
    "        context = att_weights @ x_v\n",
    "        \n",
    "        return context\n",
    "        \n",
    "        \n",
    "        "
   ]
  },
  {
   "cell_type": "code",
   "execution_count": 8,
   "metadata": {},
   "outputs": [
    {
     "data": {
      "text/plain": [
       "tensor([[ 0.5193,  0.4446,  0.0996],\n",
       "        [-0.1750,  0.1582, -0.3943],\n",
       "        [ 0.0792,  0.2550, -0.2068],\n",
       "        [-0.2201,  0.1439, -0.4212],\n",
       "        [-0.8927, -0.0247, -0.9990],\n",
       "        [-0.7117,  0.0028, -0.8256]], grad_fn=<MmBackward0>)"
      ]
     },
     "execution_count": 8,
     "metadata": {},
     "output_type": "execute_result"
    }
   ],
   "source": [
    "sa = selfAttention(3,3)\n",
    "sa.forward(torch.randn(6,3))"
   ]
  },
  {
   "cell_type": "markdown",
   "metadata": {},
   "source": [
    "## Improving using Linear layer instead nn.Parameter"
   ]
  },
  {
   "cell_type": "code",
   "execution_count": 19,
   "metadata": {},
   "outputs": [],
   "source": [
    "# Matrix Multiplication is much faster with Linear layer\n",
    "\n",
    "class selfAttentionImproved(nn.Module):\n",
    "    def __init__(self, d_in, d_out, qkv_biased=False):\n",
    "        super(selfAttentionImproved, self).__init__()\n",
    "        self.liner_query = nn.Linear(d_in, d_out, bias=qkv_biased)   # default value of requires_grad is True\n",
    "        self.liner_key = nn.Linear(d_in, d_out, bias=qkv_biased)\n",
    "        self.liner_value = nn.Linear(d_in, d_out, bias=qkv_biased)\n",
    "    \n",
    "    def forward(self, x):\n",
    "        x_q = self.liner_query(x)\n",
    "        x_k = self.liner_key(x)\n",
    "        x_v = self.liner_value(x)\n",
    "        \n",
    "        # Compute attention score\n",
    "        att_score = x_q @ x_k.T\n",
    "        \n",
    "        # attention weight\n",
    "        norm_factor = x_v.shape[-1] ** 0.5              # normalization factor    \n",
    "        att_weights = torch.softmax(att_score/norm_factor, dim=-1)\n",
    "        \n",
    "        # context matrix\n",
    "        context = att_weights @ x_v\n",
    "        \n",
    "        return context\n",
    "        \n",
    "        \n",
    "        "
   ]
  },
  {
   "cell_type": "code",
   "execution_count": 20,
   "metadata": {},
   "outputs": [
    {
     "data": {
      "text/plain": [
       "tensor([[-0.0044, -0.0584,  0.0811],\n",
       "        [ 0.0716, -0.0795,  0.0767],\n",
       "        [ 0.3407, -0.1604,  0.0786],\n",
       "        [-0.1485, -0.0115,  0.0736],\n",
       "        [ 0.1258, -0.0614,  0.0208],\n",
       "        [-0.0783, -0.0678,  0.1265]], grad_fn=<MmBackward0>)"
      ]
     },
     "execution_count": 20,
     "metadata": {},
     "output_type": "execute_result"
    }
   ],
   "source": [
    "sai = selfAttentionImproved(3,3)\n",
    "sai.forward(torch.randn(6,3))"
   ]
  },
  {
   "cell_type": "code",
   "execution_count": null,
   "metadata": {},
   "outputs": [],
   "source": [
    "# NOTE:\n",
    "    # all weights are randomly choose, not trained weights\n",
    "    # results might not make sence (attention scores)"
   ]
  }
 ],
 "metadata": {
  "kernelspec": {
   "display_name": "base",
   "language": "python",
   "name": "python3"
  },
  "language_info": {
   "codemirror_mode": {
    "name": "ipython",
    "version": 3
   },
   "file_extension": ".py",
   "mimetype": "text/x-python",
   "name": "python",
   "nbconvert_exporter": "python",
   "pygments_lexer": "ipython3",
   "version": "3.11.5"
  }
 },
 "nbformat": 4,
 "nbformat_minor": 2
}
