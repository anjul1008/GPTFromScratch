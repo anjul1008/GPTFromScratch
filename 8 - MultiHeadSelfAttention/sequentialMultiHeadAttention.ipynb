{
 "cells": [
  {
   "cell_type": "markdown",
   "metadata": {},
   "source": [
    "# Multi Head Attention or Sequential Single Head Attentions"
   ]
  },
  {
   "cell_type": "code",
   "execution_count": 4,
   "metadata": {},
   "outputs": [],
   "source": [
    "import torch\n",
    "import torch.nn as nn"
   ]
  },
  {
   "cell_type": "code",
   "execution_count": null,
   "metadata": {},
   "outputs": [],
   "source": [
    "# single head self attention\n",
    "class SHSL(nn.Module):\n",
    "    def __init__(self, d_in, d_out, context_length, causal=True, dropout=0.5, qkv_biased=False):\n",
    "        super(SHSL, self).__init__()\n",
    "        self.causal = causal\n",
    "        self.d_out = d_out\n",
    "        self.liner_query = nn.Linear(d_in, d_out, bias=qkv_biased)   # default value of requires_grad is True\n",
    "        self.liner_key = nn.Linear(d_in, d_out, bias=qkv_biased)\n",
    "        self.liner_value = nn.Linear(d_in, d_out, bias=qkv_biased)\n",
    "        self.droput = nn.Dropout(0.5)       # 50% probability of dropout, GPT model 0.1 or 0.2 is used\n",
    "        \n",
    "        if self.causal:\n",
    "            # # for CPU it works fine, but when we put model into GPU \"mask\" doesn't follow the same\n",
    "            # # and keeps running on CPU only, which leads to error\n",
    "            # self.mask = torch.triu(torch.ones(context_length, context_length), diagonal=1)\n",
    "\n",
    "            # model itself follows the device\n",
    "            self.register_buffer(\n",
    "                \"mask\",\n",
    "                torch.triu(torch.ones(context_length, context_length),\n",
    "                        diagonal=1)\n",
    "            )\n",
    "    \n",
    "    def forward(self, x):\n",
    "        b, num_tokens, d_in = x.shape\n",
    "        queries = self.liner_query(x)\n",
    "        keys = self.liner_key(x)\n",
    "        values = self.liner_value(x)\n",
    "        \n",
    "        # Compute attention score\n",
    "        att_score = queries @ keys.transpose(1,2)\n",
    "        \n",
    "        if self.causal:\n",
    "            # MASKING future attention score, replace with inf that will be changed to zero by softmat\n",
    "            # fill by -inf where it finds Ture\n",
    "            att_score.masked_fill_(\n",
    "                self.mask.bool()[:num_tokens, :num_tokens],\n",
    "                -torch.inf\n",
    "            )\n",
    "            \n",
    "            # att_score = att_score.masked_fill(self.mask.bool(), -torch.inf)\n",
    "            # print('att_score', att_score)\n",
    "        \n",
    "        # attention weight\n",
    "        norm_factor = keys.shape[-1] ** 0.5              # normalization factor    \n",
    "        att_weights = torch.softmax(att_score/norm_factor, dim=-1)\n",
    "        # print(f\"Masked att_weights marix: {att_weights}\")\n",
    "        \n",
    "        # Appling droput to masked att_weights\n",
    "        droput_att_weights = self.droput(att_weights)\n",
    "        # print(f\"Dropout att_weights marix: {droput_att_weights}\")\n",
    "        \n",
    "        # context matrix\n",
    "        context = droput_att_weights @ values\n",
    "        \n",
    "        return context\n",
    "        \n",
    "        \n",
    "        "
   ]
  },
  {
   "cell_type": "code",
   "execution_count": null,
   "metadata": {},
   "outputs": [],
   "source": [
    "# sequential multi head attention\n",
    "class MultiHeadSelfAttention(nn.Module):\n",
    "    def __init__(self, d_in, d_out, context_length, num_heads=2, causal=True, dropout=0.5, qkv_biased=False):\n",
    "        super().__init__()\n",
    "        self.d_out = d_out\n",
    "        self.heads = nn.ModuleList(\n",
    "                                    [ SHSL(d_in, d_out, context_length, causal=causal, dropout=dropout, qkv_biased=qkv_biased) \n",
    "                                    for _ in range(num_heads) ]\n",
    "                                   )\n",
    "    def forward(self, x):\n",
    "        return torch.cat( [ head.forward(x) for head in self.heads ] )\n",
    "        "
   ]
  },
  {
   "cell_type": "code",
   "execution_count": 32,
   "metadata": {},
   "outputs": [
    {
     "data": {
      "text/plain": [
       "tensor([[[ 0.2922,  1.5814,  0.9303],\n",
       "         [ 0.6592,  0.3796, -0.3670],\n",
       "         [ 2.3163, -0.1895, -0.4247],\n",
       "         [-0.6814,  1.6722, -0.6039]],\n",
       "\n",
       "        [[ 0.2922,  1.5814,  0.9303],\n",
       "         [ 0.6592,  0.3796, -0.3670],\n",
       "         [ 2.3163, -0.1895, -0.4247],\n",
       "         [-0.6814,  1.6722, -0.6039]]])"
      ]
     },
     "execution_count": 32,
     "metadata": {},
     "output_type": "execute_result"
    }
   ],
   "source": [
    "# input\n",
    "torch.manual_seed(124)\n",
    "inputs = torch.randn(4,3)\n",
    "batch = torch.stack((inputs, inputs), dim=0)\n",
    "batch"
   ]
  },
  {
   "cell_type": "code",
   "execution_count": 33,
   "metadata": {},
   "outputs": [
    {
     "name": "stdout",
     "output_type": "stream",
     "text": [
      "context_length 4\n"
     ]
    },
    {
     "data": {
      "text/plain": [
       "MultiHeadSelfAttention(\n",
       "  (heads): ModuleList(\n",
       "    (0-1): 2 x SHSL(\n",
       "      (liner_query): Linear(in_features=3, out_features=3, bias=False)\n",
       "      (liner_key): Linear(in_features=3, out_features=3, bias=False)\n",
       "      (liner_value): Linear(in_features=3, out_features=3, bias=False)\n",
       "      (droput): Dropout(p=0.5, inplace=False)\n",
       "    )\n",
       "  )\n",
       ")"
      ]
     },
     "execution_count": 33,
     "metadata": {},
     "output_type": "execute_result"
    }
   ],
   "source": [
    "context_length = batch.shape[1]\n",
    "print('context_length', context_length)\n",
    "d_in = inputs.shape[1]\n",
    "d_out = 3\n",
    "mhsa = MultiHeadSelfAttention(d_in=d_in, d_out=d_out, context_length=context_length)\n",
    "mhsa"
   ]
  },
  {
   "cell_type": "code",
   "execution_count": 34,
   "metadata": {},
   "outputs": [
    {
     "name": "stdout",
     "output_type": "stream",
     "text": [
      "Context Matrix after multi head Self-Attention: tensor([[[ 0.0000,  0.0000,  0.0000],\n",
      "         [ 0.0000,  0.0000,  0.0000],\n",
      "         [ 0.1171, -0.2019, -0.1344],\n",
      "         [ 0.2901, -0.8044, -0.5432]],\n",
      "\n",
      "        [[ 0.0000,  0.0000,  0.0000],\n",
      "         [ 0.1390, -0.2397, -0.1596],\n",
      "         [ 0.0995, -0.9639, -0.0860],\n",
      "         [ 0.1711, -0.3428, -0.1796]],\n",
      "\n",
      "        [[ 0.0000,  0.0000,  0.0000],\n",
      "         [ 0.1648, -0.0429, -0.0987],\n",
      "         [ 0.0000,  0.0000,  0.0000],\n",
      "         [-0.0923, -0.5233, -0.6319]],\n",
      "\n",
      "        [[ 0.3458, -0.5400, -0.6614],\n",
      "         [ 0.0000,  0.0000,  0.0000],\n",
      "         [ 0.5621,  0.1401,  0.0528],\n",
      "         [-0.2838, -0.3262, -0.3685]]])\n"
     ]
    }
   ],
   "source": [
    "with torch.no_grad():\n",
    "    context = mhsa.forward(batch)\n",
    "print(f\"Context Matrix after multi head Self-Attention: {context}\")"
   ]
  },
  {
   "cell_type": "code",
   "execution_count": null,
   "metadata": {},
   "outputs": [],
   "source": []
  }
 ],
 "metadata": {
  "kernelspec": {
   "display_name": "base",
   "language": "python",
   "name": "python3"
  },
  "language_info": {
   "codemirror_mode": {
    "name": "ipython",
    "version": 3
   },
   "file_extension": ".py",
   "mimetype": "text/x-python",
   "name": "python",
   "nbconvert_exporter": "python",
   "pygments_lexer": "ipython3",
   "version": "3.11.5"
  }
 },
 "nbformat": 4,
 "nbformat_minor": 2
}
