{
 "cells": [
  {
   "cell_type": "markdown",
   "metadata": {},
   "source": [
    "# Intuition behind Word Embeddings and Positional Word Embeddings in GPT like Models"
   ]
  },
  {
   "cell_type": "code",
   "execution_count": 2,
   "metadata": {},
   "outputs": [],
   "source": [
    "# Imports\n",
    "import torch\n",
    "import torch.nn\n"
   ]
  },
  {
   "cell_type": "markdown",
   "metadata": {},
   "source": [
    "### Just for intuition of Embeddings, we will consider vocab_size = 6, word_embedding_size = 4, and pos_embedding_size = 4"
   ]
  },
  {
   "cell_type": "code",
   "execution_count": null,
   "metadata": {},
   "outputs": [],
   "source": [
    "# creating word embeddings\n",
    "vocab_size = 6\n",
    "word_embedding_size = 4\n",
    "word_embed  = torch.nn.Embedding(vocab_size, word_embedding_size)"
   ]
  },
  {
   "cell_type": "code",
   "execution_count": 6,
   "metadata": {},
   "outputs": [
    {
     "data": {
      "text/plain": [
       "Parameter containing:\n",
       "tensor([[ 0.8803,  0.9265, -0.2485, -0.7905],\n",
       "        [ 0.1671, -0.4548, -1.1456,  0.5138],\n",
       "        [-0.9792,  0.3675,  0.9125, -0.9021],\n",
       "        [ 1.7908,  2.7524,  0.6820, -1.3109],\n",
       "        [-0.5740,  0.0056, -1.2501,  1.0403],\n",
       "        [ 1.7969,  1.1708, -1.1153,  0.3860]], requires_grad=True)"
      ]
     },
     "execution_count": 6,
     "metadata": {},
     "output_type": "execute_result"
    }
   ],
   "source": [
    "# initalizing with random numbers\n",
    "# it contains trainable parameters, which will get updated with training\n",
    "\n",
    "# Initial embeddings\n",
    "word_embed.weight"
   ]
  },
  {
   "cell_type": "code",
   "execution_count": 8,
   "metadata": {},
   "outputs": [
    {
     "data": {
      "text/plain": [
       "torch.Size([6, 4])"
      ]
     },
     "execution_count": 8,
     "metadata": {},
     "output_type": "execute_result"
    }
   ],
   "source": [
    "# vocabulary_size, word_embed_size\n",
    "word_embed.weight.shape"
   ]
  },
  {
   "cell_type": "code",
   "execution_count": 9,
   "metadata": {},
   "outputs": [
    {
     "data": {
      "text/plain": [
       "tensor([ 0.8803,  0.9265, -0.2485, -0.7905], grad_fn=<SelectBackward0>)"
      ]
     },
     "execution_count": 9,
     "metadata": {},
     "output_type": "execute_result"
    }
   ],
   "source": [
    "# first vocab / token embeddings\n",
    "word_embed.weight[0]"
   ]
  },
  {
   "cell_type": "markdown",
   "metadata": {},
   "source": [
    "### Positional embeddings"
   ]
  },
  {
   "cell_type": "code",
   "execution_count": 11,
   "metadata": {},
   "outputs": [],
   "source": [
    "# pos_embedding_size out size should match with word_embed out size\n",
    "# beacuse final embeddings = word embeddings + postional embeddings\n",
    "# it contains trainable parameters, which will get updated with training\n",
    "\n",
    "pos_embedding_size = 4\n",
    "pos_embed = torch.nn.Embedding(vocab_size, pos_embedding_size)"
   ]
  },
  {
   "cell_type": "code",
   "execution_count": 12,
   "metadata": {},
   "outputs": [
    {
     "data": {
      "text/plain": [
       "Parameter containing:\n",
       "tensor([[-0.1031, -0.9458,  1.0143,  0.8707],\n",
       "        [-1.2417,  0.0516,  0.9171, -0.1363],\n",
       "        [ 1.3295, -0.3977, -1.3267, -0.7087],\n",
       "        [ 1.4948, -0.9895,  1.0575,  0.6096],\n",
       "        [-0.3655, -0.7516,  0.5253,  0.2481],\n",
       "        [-0.1067,  0.1675,  0.7256,  0.7739]], requires_grad=True)"
      ]
     },
     "execution_count": 12,
     "metadata": {},
     "output_type": "execute_result"
    }
   ],
   "source": [
    "pos_embed.weight"
   ]
  },
  {
   "cell_type": "code",
   "execution_count": 13,
   "metadata": {},
   "outputs": [
    {
     "data": {
      "text/plain": [
       "torch.Size([6, 4])"
      ]
     },
     "execution_count": 13,
     "metadata": {},
     "output_type": "execute_result"
    }
   ],
   "source": [
    "pos_embed.weight.shape"
   ]
  },
  {
   "cell_type": "markdown",
   "metadata": {},
   "source": [
    "### Final embedding"
   ]
  },
  {
   "cell_type": "code",
   "execution_count": 27,
   "metadata": {},
   "outputs": [
    {
     "data": {
      "text/plain": [
       "(tensor([[ 0.8803,  0.9265, -0.2485, -0.7905]], grad_fn=<EmbeddingBackward0>),\n",
       " tensor([[-0.1031, -0.9458,  1.0143,  0.8707]], grad_fn=<EmbeddingBackward0>),\n",
       " tensor([[ 0.7772, -0.0193,  0.7658,  0.0802]], grad_fn=<AddBackward0>))"
      ]
     },
     "execution_count": 27,
     "metadata": {},
     "output_type": "execute_result"
    }
   ],
   "source": [
    "# We need postional embeddings because attention mechanism works parallely, and don't have track of token positions\n",
    "# let's consider only 1 vocab/token to generate embedding\n",
    "\n",
    "num_tokens = 1\n",
    "t_embed = word_embed(torch.arange(num_tokens))\n",
    "p_embed = pos_embed(torch.arange(num_tokens))\n",
    "\n",
    "final_embed  = t_embed + p_embed\n",
    "t_embed,p_embed, final_embed"
   ]
  },
  {
   "cell_type": "code",
   "execution_count": null,
   "metadata": {},
   "outputs": [],
   "source": []
  }
 ],
 "metadata": {
  "kernelspec": {
   "display_name": "base",
   "language": "python",
   "name": "python3"
  },
  "language_info": {
   "codemirror_mode": {
    "name": "ipython",
    "version": 3
   },
   "file_extension": ".py",
   "mimetype": "text/x-python",
   "name": "python",
   "nbconvert_exporter": "python",
   "pygments_lexer": "ipython3",
   "version": "3.11.5"
  }
 },
 "nbformat": 4,
 "nbformat_minor": 2
}
